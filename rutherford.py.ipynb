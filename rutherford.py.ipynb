{
 "cells": [
  {
   "cell_type": "code",
   "execution_count": null,
   "metadata": {},
   "outputs": [],
   "source": []
  },
  {
   "cell_type": "code",
   "execution_count": 10,
   "metadata": {},
   "outputs": [
    {
     "name": "stdout",
     "output_type": "stream",
     "text": [
      "(<-1e-08, 5e-13, 0>, <-1, 5e-05, 0>, 1.0000000025000002e-16)\n",
      "(5e-13, 4576.377413141589, 6.507624262363458)\n",
      "(20187976.795259465, 529.5777326500801, 0.005295777326500801)\n"
     ]
    }
   ],
   "source": [
    "from __future__ import division\n",
    "from vpython import *\n",
    "#from vpython.graph import *\n",
    "from math import *\n",
    "\n",
    "size=1e-15\n",
    "size2=1e-10\n",
    "b=0.005*size2\n",
    "start=100*size2\n",
    "k=9e9\n",
    "e=1.6e-19\n",
    "\n",
    "alpha=sphere(pos=vector(-start,b,0),radius=(0.1*size),color=color.red)\n",
    "\n",
    "alpha.mass=4*1.67e-27\n",
    "alpha.charge=+2*e\n",
    "alpha.size=vector(1e-12, 1e-12, 1e-12)\n",
    "alpha.energy=4e6*1.6e-19\n",
    "alpha.speed=sqrt(2*alpha.energy/alpha.mass)\n",
    "\n",
    "gold=sphere(pos=vector(0,0,0), radius=(size), color=color.yellow)\n",
    "\n",
    "gold.mass=197*1.67e-27\n",
    "gold.charge=+79*e\n",
    "\n",
    "shell=sphere(pos=gold.pos, radius=size2, color=color.green)\n",
    "shell.mass=gold.mass/1837\n",
    "shell.charge=-gold.charge\n",
    "\n",
    "alpha.momentum=alpha.mass*alpha.speed*vector(1,0,0)\n",
    "gold.momentum=gold.mass*vector(0,0,0)\n",
    "\n",
    "alpha.trail=curve(color=alpha.color)\n",
    "alpha.trail.append(pos=alpha.pos)\n",
    "gold.trail=curve(color=gold.color)\n",
    "gold.trail.append(pos=gold.pos)\n",
    "\n",
    "r=alpha.pos-gold.pos\n",
    "rhat=r/r.mag\n",
    "r_min=r.mag\n",
    "\n",
    "init_r=alpha.pos.mag\n",
    "\n",
    "print(r,rhat,r.mag2)\n",
    "\n",
    "dt=0.01*r.mag/alpha.speed\n",
    "t=0\n",
    "\n",
    "while alpha.pos.mag<2*init_r:\n",
    "    if r.mag>size:\n",
    "        F_alpha=k*alpha.charge*gold.charge*rhat/r.mag2\n",
    "        F_gold=-F_alpha\n",
    "    else:\n",
    "        F_alpha=k*alpha.charge*gold.charge*rhat*(r.mag/size)/(size*size)\n",
    "        F_gold=-F_alpha\n",
    "\n",
    "    if r.mag>size2:\n",
    "        F_alpha=F_alpha+k*alpha.charge*shell.charge*rhat/r.mag2\n",
    "        F_gold=-F_alpha\n",
    "    \n",
    "    check=F_alpha+F_gold\n",
    "    #print(F_alpha.y)\n",
    "\n",
    "    alpha.momentum=alpha.momentum+F_alpha*dt\n",
    "    gold.momentum=gold.momentum+F_gold*dt\n",
    "\n",
    "    alpha.pos=alpha.pos+(alpha.momentum/alpha.mass)*dt\n",
    "    alpha.trail.append(pos=alpha.pos)\n",
    "    gold.pos=gold.pos+(gold.momentum/gold.mass)*dt\n",
    "    shell.pos=gold.pos\n",
    "    gold.trail.append(pos=gold.pos)\n",
    "\n",
    "    r=alpha.pos-gold.pos\n",
    "    rhat=r/r.mag\n",
    "\n",
    "    alpha.speed=alpha.momentum.mag/alpha.mass\n",
    "    dt=0.01*r.mag/alpha.speed\n",
    "    \n",
    "    if r.mag<r_min:\n",
    "        r_min=r.mag\n",
    "        \n",
    "    t=t+dt\n",
    "\n",
    "if alpha.pos.x>0:\n",
    "    angle=degrees(atan(abs((alpha.pos.y-b)/alpha.pos.x)))\n",
    "else:\n",
    "    angle=180-degrees(atan(abs((alpha.pos.y-b)/alpha.pos.x)))\n",
    "\n",
    "print(b,alpha.pos.y/b,angle)\n",
    "print(r.mag/size,r_min/size,r_min/size2)"
   ]
  },
  {
   "cell_type": "code",
   "execution_count": null,
   "metadata": {
    "collapsed": true
   },
   "outputs": [],
   "source": []
  }
 ],
 "metadata": {
  "kernelspec": {
   "display_name": "Python 2",
   "language": "python",
   "name": "python2"
  },
  "language_info": {
   "codemirror_mode": {
    "name": "ipython",
    "version": 2
   },
   "file_extension": ".py",
   "mimetype": "text/x-python",
   "name": "python",
   "nbconvert_exporter": "python",
   "pygments_lexer": "ipython2",
   "version": "2.7.13"
  }
 },
 "nbformat": 4,
 "nbformat_minor": 2
}
